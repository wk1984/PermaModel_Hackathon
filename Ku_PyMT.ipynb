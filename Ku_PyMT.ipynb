{
 "cells": [
  {
   "cell_type": "markdown",
   "metadata": {
    "deletable": true,
    "editable": true
   },
   "source": [
    "## QUICK INSTALL of PyMT & permamodel:\n",
    "\n",
    "### > conda install -c conda-forge pymt\n",
    "\n",
    "## If you install pymt a couple days before, you may need to install ECSimpleSnow component seperatly:\n",
    "\n",
    "### > conda install -conda-forge pymt_ecsimplesnow\n",
    "\n",
    "## No Error Occured >> Let's get started"
   ]
  },
  {
   "cell_type": "markdown",
   "metadata": {
    "deletable": true,
    "editable": true
   },
   "source": [
    "## Import Ku Component with PyMT"
   ]
  },
  {
   "cell_type": "code",
   "execution_count": 1,
   "metadata": {
    "collapsed": false,
    "deletable": true,
    "editable": true
   },
   "outputs": [
    {
     "name": "stderr",
     "output_type": "stream",
     "text": [
      "\u001b[33;01m➡ models: FrostNumber, Ku, Hydrotrend, ECSimpleSnow, Cem, Waves\u001b[39;49;00m\n"
     ]
    }
   ],
   "source": [
    "import numpy as np\n",
    "import matplotlib.pyplot as plt\n",
    "\n",
    "# Load PyMT model(s)\n",
    "import pymt.models\n",
    "ku = pymt.models.Ku()"
   ]
  },
  {
   "cell_type": "markdown",
   "metadata": {
    "deletable": true,
    "editable": true
   },
   "source": [
    "## Create Quickly an Example\n",
    "\n",
    "##### lat & lon are used to extract soil infromation from built-in soil database\n",
    "\n",
    "##### You can set up any value in the configuration file."
   ]
  },
  {
   "cell_type": "code",
   "execution_count": 3,
   "metadata": {
    "collapsed": false,
    "deletable": true,
    "editable": true
   },
   "outputs": [
    {
     "name": "stdout",
     "output_type": "stream",
     "text": [
      "/var/folders/c7/ql2rc7m13bg3f25k3lpj3pz80000gn/T/tmp5c2_ne2g\n",
      "#===============================================================================\r\n",
      "# PermaModel Config File for: Ku_method\r\n",
      "#===============================================================================\r\n",
      "# Input\r\n",
      "comp_status      | Enabled              | string   | component status {Enabled; Disabled}\r\n",
      "in_directory     | .                    | string   | input directory\r\n",
      "out_directory    | .                    | string   | output directory\r\n",
      "permafrost_dir   | .                    | string   | root permafrost code directory\r\n",
      "site_prefix      | Test                 | string   | file prefix for the study site\r\n",
      "case_prefix      | Case_test            | string   | file prefix for the model scenario\r\n",
      "lat              | 64.8378              | float    | 64.8378N, 147.7164W\r\n",
      "lon              | -147.7164            | float    | GIS coordinates\r\n",
      "start_year       | 2009                 | long     | begining of the simulation time [year]\r\n",
      "end_year         | 2009                 | long     | begining of the simulation time [year]\r\n",
      "dt               | 1.0                  | float    | timestep for permafrost process [year]\r\n",
      "T_air_type       | Scalar               | string   | allowed input types {Scalar; Time_Series}\r\n",
      "T_air            | -9.0                 | float    | Mean annual air temperature [C]\r\n",
      "T_air_file       | off                  | string   | Mean annual air temperature [C]\r\n",
      "A_air_type       | Scalar               | string   | allowed input types {Scalar; Time_Series}\r\n",
      "A_air            | 15.4                 | float    | Mean annual amplitude of air temperature [C]\r\n",
      "A_air_file       | off                  | string   | Mean annual amplitude of air temperature [C]\r\n",
      "h_snow_type      | Scalar               | string   | allowed input types {Scalar; Time_Series}\r\n",
      "h_snow           | 0.3                  | float    | depth of snow [m]\r\n",
      "h_snow_file      | off                  | string   | depth of snow [m]\r\n",
      "rho_snow_type    | Scalar               | string   | allowed input types {Scalar; Time_Series}\r\n",
      "rho_snow         | 240.0                | float    | density of snow [kg m-3]\r\n",
      "rho_snow_file    | off                  | string   | density of snow [kg m-3]\r\n",
      "vwc_H2O_type     | Scalar               | string   | allowed input types {Scalar; Time_Series}\r\n",
      "vwc_H2O          | 0.4                  | float    | soil volumetric water content [m3 m-3]\r\n",
      "vwc_H2O_file     | off                  | string   | soil volumetric water content [m3 m-3]\r\n",
      "Hvgf_type        | Scalar               | string   | allowed input types {Scalar; Time_Series}\r\n",
      "Hvgf             | 0.0                  | float    | Height of vegetation in frozen period [m]\r\n",
      "Hvgf_file        | off                  | string   | Height of vegetation in frozen period [m]\r\n",
      "Hvgt_type        | Scalar               | string   | allowed input types {Scalar; Time_Series}\r\n",
      "Hvgt             | 0.0                  | float    | Height of vegetation in thawed period [m]\r\n",
      "Hvgt_file        | off                  | string   | Height of vegetation in thawed period [m]\r\n",
      "Dvf_type         | Scalar               | string   | allowed input types {Scalar; Time_Series}\r\n",
      "Dvf              | 1.39e-06             | float    | Thermal diffusivity of vegetation in frozen period [m2 s]\r\n",
      "Dvf_file         | off                  | string   | Thermal diffusivity of vegetation in frozen period [m2 s]\r\n",
      "Dvt_type         | Scalar               | string   | allowed input types {Scalar; Time_Series}\r\n",
      "Dvt              | 5.56e-08             | float    | Thermal diffusivity of vegetation in thawed period[m2 s]\r\n",
      "Dvt_file         | off                  | string   | Thermal diffusivity of vegetation in thawed period[m2 s]\r\n",
      "#===============================================================================\r\n",
      "# Output\r\n",
      "SAVE_ALT_GRIDS   | No                   | string           | option to save grids of active layer thickness {Yes; No}\r\n",
      "ALT_file         | off                  | string   | filename for grid stack of active layer thicknesses\r\n",
      "SAVE_TPS_GRIDS   | No                   | string           | option to save grids of temperature at permafrost surface {Yes; No}\r\n",
      "TPS_file         | off                  | string    | filename for grid stack of temperatures at permafrost surface"
     ]
    }
   ],
   "source": [
    "config_file, run_folder = ku.setup()\n",
    "\n",
    "print(run_folder)\n",
    "\n",
    "file = run_folder + '/' + config_file\n",
    "\n",
    "%cat $file"
   ]
  },
  {
   "cell_type": "markdown",
   "metadata": {
    "deletable": true,
    "editable": true
   },
   "source": [
    "## We will check what variables can we use in this model."
   ]
  },
  {
   "cell_type": "code",
   "execution_count": 4,
   "metadata": {
    "collapsed": false,
    "deletable": true,
    "editable": true
   },
   "outputs": [
    {
     "name": "stdout",
     "output_type": "stream",
     "text": [
      "***All outputs:\n",
      "soil__temperature\n",
      "soil__active_layer_thickness\n",
      "*** All inputs:\n",
      "latitude\n",
      "longitude\n",
      "datetime__start\n",
      "datetime__end\n",
      "atmosphere_bottom_air__temperature\n",
      "atmosphere_bottom_air__temperature_amplitude\n",
      "snowpack__depth\n",
      "snowpack__density\n",
      "water-liquid__volumetric-water-content-soil\n",
      "vegetation__Hvgf\n",
      "vegetation__Hvgt\n",
      "vegetation__Dvf\n",
      "vegetation__Dvt\n"
     ]
    }
   ],
   "source": [
    "print('***All outputs:')\n",
    "for outputs in ku.get_output_var_names():\n",
    "    print(outputs)\n",
    "    \n",
    "print('*** All inputs:')\n",
    "for inputs in ku.get_input_var_names():\n",
    "    print(inputs)"
   ]
  },
  {
   "cell_type": "markdown",
   "metadata": {
    "deletable": true,
    "editable": true
   },
   "source": [
    "## Keep all value in configuration file"
   ]
  },
  {
   "cell_type": "code",
   "execution_count": 5,
   "metadata": {
    "collapsed": false,
    "deletable": true,
    "editable": true
   },
   "outputs": [
    {
     "name": "stdout",
     "output_type": "stream",
     "text": [
      " \n",
      "Ku model component: Initializing...\n",
      "[ 0.51126976] m\n",
      "[-6.7442986] deg_C\n",
      "[ 266.4057014]\n"
     ]
    }
   ],
   "source": [
    "ku.initialize(config_file, run_folder)\n",
    "\n",
    "ku.update()\n",
    "\n",
    "ALT = ku.get_value('soil__active_layer_thickness')\n",
    "TPS = ku.get_value('soil__temperature')\n",
    "TPS_K = ku.get_value('soil__temperature',units='K')\n",
    "\n",
    "print(ALT, ku.get_var_units('soil__active_layer_thickness'))\n",
    "print(TPS, ku.get_var_units('soil__temperature'))\n",
    "\n",
    "print(TPS_K)"
   ]
  },
  {
   "cell_type": "markdown",
   "metadata": {
    "deletable": true,
    "editable": true
   },
   "source": [
    "## We can try to creat quickly different case by using different values in setup process.\n",
    "\n",
    "### Change Mean annual air temperature, annual amplitude, and also location, for example:"
   ]
  },
  {
   "cell_type": "code",
   "execution_count": 5,
   "metadata": {
    "collapsed": false,
    "deletable": true,
    "editable": true
   },
   "outputs": [
    {
     "name": "stdout",
     "output_type": "stream",
     "text": [
      "#===============================================================================\r\n",
      "# PermaModel Config File for: Ku_method\r\n",
      "#===============================================================================\r\n",
      "# Input\r\n",
      "comp_status      | Enabled              | string   | component status {Enabled; Disabled}\r\n",
      "in_directory     | .                    | string   | input directory\r\n",
      "out_directory    | .                    | string   | output directory\r\n",
      "permafrost_dir   | .                    | string   | root permafrost code directory\r\n",
      "site_prefix      | Test                 | string   | file prefix for the study site\r\n",
      "case_prefix      | Case_test            | string   | file prefix for the model scenario\r\n",
      "lat              | 71.31                | float    | 64.8378N, 147.7164W\r\n",
      "lon              | -156.66              | float    | GIS coordinates\r\n",
      "start_year       | 2009                 | long     | begining of the simulation time [year]\r\n",
      "end_year         | 2009                 | long     | begining of the simulation time [year]\r\n",
      "dt               | 1.0                  | float    | timestep for permafrost process [year]\r\n",
      "T_air_type       | Scalar               | string   | allowed input types {Scalar; Time_Series}\r\n",
      "T_air            | -11                  | float    | Mean annual air temperature [C]\r\n",
      "T_air_file       | off                  | string   | Mean annual air temperature [C]\r\n",
      "A_air_type       | Scalar               | string   | allowed input types {Scalar; Time_Series}\r\n",
      "A_air            | 16                   | float    | Mean annual amplitude of air temperature [C]\r\n",
      "A_air_file       | off                  | string   | Mean annual amplitude of air temperature [C]\r\n",
      "h_snow_type      | Scalar               | string   | allowed input types {Scalar; Time_Series}\r\n",
      "h_snow           | 0.3                  | float    | depth of snow [m]\r\n",
      "h_snow_file      | off                  | string   | depth of snow [m]\r\n",
      "rho_snow_type    | Scalar               | string   | allowed input types {Scalar; Time_Series}\r\n",
      "rho_snow         | 240.0                | float    | density of snow [kg m-3]\r\n",
      "rho_snow_file    | off                  | string   | density of snow [kg m-3]\r\n",
      "vwc_H2O_type     | Scalar               | string   | allowed input types {Scalar; Time_Series}\r\n",
      "vwc_H2O          | 0.4                  | float    | soil volumetric water content [m3 m-3]\r\n",
      "vwc_H2O_file     | off                  | string   | soil volumetric water content [m3 m-3]\r\n",
      "Hvgf_type        | Scalar               | string   | allowed input types {Scalar; Time_Series}\r\n",
      "Hvgf             | 0.0                  | float    | Height of vegetation in frozen period [m]\r\n",
      "Hvgf_file        | off                  | string   | Height of vegetation in frozen period [m]\r\n",
      "Hvgt_type        | Scalar               | string   | allowed input types {Scalar; Time_Series}\r\n",
      "Hvgt             | 0.0                  | float    | Height of vegetation in thawed period [m]\r\n",
      "Hvgt_file        | off                  | string   | Height of vegetation in thawed period [m]\r\n",
      "Dvf_type         | Scalar               | string   | allowed input types {Scalar; Time_Series}\r\n",
      "Dvf              | 1.39e-06             | float    | Thermal diffusivity of vegetation in frozen period [m2 s]\r\n",
      "Dvf_file         | off                  | string   | Thermal diffusivity of vegetation in frozen period [m2 s]\r\n",
      "Dvt_type         | Scalar               | string   | allowed input types {Scalar; Time_Series}\r\n",
      "Dvt              | 5.56e-08             | float    | Thermal diffusivity of vegetation in thawed period[m2 s]\r\n",
      "Dvt_file         | off                  | string   | Thermal diffusivity of vegetation in thawed period[m2 s]\r\n",
      "#===============================================================================\r\n",
      "# Output\r\n",
      "SAVE_ALT_GRIDS   | No                   | string           | option to save grids of active layer thickness {Yes; No}\r\n",
      "ALT_file         | off                  | string   | filename for grid stack of active layer thicknesses\r\n",
      "SAVE_TPS_GRIDS   | No                   | string           | option to save grids of temperature at permafrost surface {Yes; No}\r\n",
      "TPS_file         | off                  | string    | filename for grid stack of temperatures at permafrost surface"
     ]
    }
   ],
   "source": [
    "config_file, run_folder = ku.setup(T_air=-11, \n",
    "                                   A_air=16,\n",
    "                                   lat  = 71.31,\n",
    "                                   lon  = -156.66)\n",
    "\n",
    "file = run_folder + '/' + config_file\n",
    "\n",
    "%cat $file"
   ]
  },
  {
   "cell_type": "markdown",
   "metadata": {
    "deletable": true,
    "editable": true
   },
   "source": [
    "## Run the model for new setup:"
   ]
  },
  {
   "cell_type": "code",
   "execution_count": 6,
   "metadata": {
    "collapsed": false,
    "deletable": true,
    "editable": true
   },
   "outputs": [
    {
     "name": "stdout",
     "output_type": "stream",
     "text": [
      " \n",
      "Ku model component: Initializing...\n",
      "[ 0.40076362]\n",
      "[-8.53998194]\n"
     ]
    }
   ],
   "source": [
    "ku.initialize(config_file, run_folder)\n",
    "\n",
    "ku.update()\n",
    "\n",
    "ALT = ku.get_value('soil__active_layer_thickness')\n",
    "TPS = ku.get_value('soil__temperature')\n",
    "\n",
    "print(ALT)\n",
    "print(TPS)"
   ]
  },
  {
   "cell_type": "markdown",
   "metadata": {
    "deletable": true,
    "editable": true
   },
   "source": [
    "## Exp 01 - SET SNOW DEPTH TO 1.0 m"
   ]
  },
  {
   "cell_type": "code",
   "execution_count": 7,
   "metadata": {
    "collapsed": false,
    "deletable": true,
    "editable": true
   },
   "outputs": [
    {
     "name": "stdout",
     "output_type": "stream",
     "text": [
      " \n",
      "Ku model component: Initializing...\n",
      "[ 0.61054771]\n",
      "[-3.34134298]\n"
     ]
    }
   ],
   "source": [
    "ku.initialize(config_file, run_folder)\n",
    "ku.set_value('snowpack__depth',1.0)\n",
    "\n",
    "ku.update()\n",
    "\n",
    "ALT = ku.get_value('soil__active_layer_thickness')\n",
    "TPS = ku.get_value('soil__temperature')\n",
    "\n",
    "print(ALT)\n",
    "print(TPS)"
   ]
  },
  {
   "cell_type": "markdown",
   "metadata": {
    "deletable": true,
    "editable": true
   },
   "source": [
    "## Exp 02 - Make the soil dry\n",
    "### SET VWC to 0.1 m3/m3"
   ]
  },
  {
   "cell_type": "code",
   "execution_count": 8,
   "metadata": {
    "collapsed": false,
    "deletable": true,
    "editable": true
   },
   "outputs": [
    {
     "name": "stdout",
     "output_type": "stream",
     "text": [
      " \n",
      "Ku model component: Initializing...\n",
      "[ 0.87461586]\n",
      "[-8.06388155]\n"
     ]
    }
   ],
   "source": [
    "ku.initialize(config_file, run_folder)\n",
    "\n",
    "ku.set_value('water-liquid__volumetric-water-content-soil',0.1)\n",
    "\n",
    "ku.update()\n",
    "\n",
    "ALT = ku.get_value('soil__active_layer_thickness')\n",
    "TPS = ku.get_value('soil__temperature')\n",
    "\n",
    "print(ALT)\n",
    "print(TPS)"
   ]
  },
  {
   "cell_type": "markdown",
   "metadata": {
    "deletable": true,
    "editable": true
   },
   "source": [
    "## Exp 03 - Make the soil wet\n",
    "### SET VWC to 0.9 m3/m3"
   ]
  },
  {
   "cell_type": "code",
   "execution_count": 9,
   "metadata": {
    "collapsed": false,
    "deletable": true,
    "editable": true
   },
   "outputs": [
    {
     "name": "stdout",
     "output_type": "stream",
     "text": [
      " \n",
      "Ku model component: Initializing...\n",
      "[ 0.17643846]\n",
      "[-9.0200761]\n"
     ]
    }
   ],
   "source": [
    "ku.initialize(config_file, run_folder)\n",
    "\n",
    "ku.set_value('water-liquid__volumetric-water-content-soil',0.9)\n",
    "\n",
    "ku.update()\n",
    "\n",
    "ALT = ku.get_value('soil__active_layer_thickness')\n",
    "TPS = ku.get_value('soil__temperature')\n",
    "\n",
    "print(ALT)\n",
    "print(TPS)"
   ]
  },
  {
   "cell_type": "markdown",
   "metadata": {
    "deletable": true,
    "editable": true
   },
   "source": [
    "## Exp 04 - Make climate warmer\n",
    "### SET MEAN ANNUAL AIR TEMPERATURE to -5 degree C, keep annual amplitude as 16 C"
   ]
  },
  {
   "cell_type": "code",
   "execution_count": 10,
   "metadata": {
    "collapsed": false,
    "deletable": true,
    "editable": true
   },
   "outputs": [
    {
     "name": "stdout",
     "output_type": "stream",
     "text": [
      " \n",
      "Ku model component: Initializing...\n",
      "[ 0.83383955]\n",
      "[-3.30302571]\n"
     ]
    }
   ],
   "source": [
    "ku.initialize(config_file, run_folder)\n",
    "\n",
    "ku.set_value('atmosphere_bottom_air__temperature',-5.0)\n",
    "\n",
    "ku.update()\n",
    "\n",
    "ALT = ku.get_value('soil__active_layer_thickness')\n",
    "TPS = ku.get_value('soil__temperature')\n",
    "\n",
    "print(ALT)\n",
    "print(TPS)"
   ]
  },
  {
   "cell_type": "markdown",
   "metadata": {
    "deletable": true,
    "editable": true
   },
   "source": [
    "## Exp 05 - Change location, i.e., use different soils"
   ]
  },
  {
   "cell_type": "code",
   "execution_count": 9,
   "metadata": {
    "collapsed": false,
    "deletable": true,
    "editable": true
   },
   "outputs": [
    {
     "name": "stdout",
     "output_type": "stream",
     "text": [
      " \n",
      "Ku model component: Initializing...\n",
      "[ 0.51101042]\n",
      "[-6.73914338]\n"
     ]
    }
   ],
   "source": [
    "config_file, run_folder = ku.setup(lat  = 31.00,\n",
    "                                   lon  = 136.66)\n",
    "\n",
    "ku.initialize(config_file, run_folder)\n",
    "\n",
    "ku.update()\n",
    "\n",
    "ALT = ku.get_value('soil__active_layer_thickness')\n",
    "TPS = ku.get_value('soil__temperature')\n",
    "\n",
    "print(ALT)\n",
    "print(TPS)"
   ]
  },
  {
   "cell_type": "markdown",
   "metadata": {
    "deletable": true,
    "editable": true
   },
   "source": [
    "## Exp 06 - Simulate for a time-series"
   ]
  },
  {
   "cell_type": "code",
   "execution_count": 12,
   "metadata": {
    "collapsed": false,
    "deletable": true,
    "editable": true
   },
   "outputs": [
    {
     "data": {
      "text/html": [
       "<div>\n",
       "<style scoped>\n",
       "    .dataframe tbody tr th:only-of-type {\n",
       "        vertical-align: middle;\n",
       "    }\n",
       "\n",
       "    .dataframe tbody tr th {\n",
       "        vertical-align: top;\n",
       "    }\n",
       "\n",
       "    .dataframe thead th {\n",
       "        text-align: right;\n",
       "    }\n",
       "</style>\n",
       "<table border=\"1\" class=\"dataframe\">\n",
       "  <thead>\n",
       "    <tr style=\"text-align: right;\">\n",
       "      <th></th>\n",
       "      <th>atmosphere_bottom_air__temperature</th>\n",
       "      <th>snowpack__depth</th>\n",
       "      <th>atmosphere_bottom_air__temperature_amplitude</th>\n",
       "    </tr>\n",
       "  </thead>\n",
       "  <tbody>\n",
       "    <tr>\n",
       "      <th>0</th>\n",
       "      <td>-13.1980</td>\n",
       "      <td>0.29612</td>\n",
       "      <td>18.070</td>\n",
       "    </tr>\n",
       "    <tr>\n",
       "      <th>1</th>\n",
       "      <td>-10.7460</td>\n",
       "      <td>0.40822</td>\n",
       "      <td>15.538</td>\n",
       "    </tr>\n",
       "    <tr>\n",
       "      <th>2</th>\n",
       "      <td>-12.0420</td>\n",
       "      <td>0.27510</td>\n",
       "      <td>15.694</td>\n",
       "    </tr>\n",
       "    <tr>\n",
       "      <th>3</th>\n",
       "      <td>-15.2060</td>\n",
       "      <td>0.21657</td>\n",
       "      <td>18.519</td>\n",
       "    </tr>\n",
       "    <tr>\n",
       "      <th>4</th>\n",
       "      <td>-12.7290</td>\n",
       "      <td>0.24719</td>\n",
       "      <td>17.937</td>\n",
       "    </tr>\n",
       "    <tr>\n",
       "      <th>5</th>\n",
       "      <td>-13.1050</td>\n",
       "      <td>0.31827</td>\n",
       "      <td>16.743</td>\n",
       "    </tr>\n",
       "    <tr>\n",
       "      <th>6</th>\n",
       "      <td>-11.9630</td>\n",
       "      <td>0.21748</td>\n",
       "      <td>14.936</td>\n",
       "    </tr>\n",
       "    <tr>\n",
       "      <th>7</th>\n",
       "      <td>-12.2300</td>\n",
       "      <td>0.30102</td>\n",
       "      <td>18.760</td>\n",
       "    </tr>\n",
       "    <tr>\n",
       "      <th>8</th>\n",
       "      <td>-12.8220</td>\n",
       "      <td>0.19425</td>\n",
       "      <td>14.966</td>\n",
       "    </tr>\n",
       "    <tr>\n",
       "      <th>9</th>\n",
       "      <td>-13.8100</td>\n",
       "      <td>0.13143</td>\n",
       "      <td>15.582</td>\n",
       "    </tr>\n",
       "    <tr>\n",
       "      <th>10</th>\n",
       "      <td>-13.5130</td>\n",
       "      <td>0.18732</td>\n",
       "      <td>18.446</td>\n",
       "    </tr>\n",
       "    <tr>\n",
       "      <th>11</th>\n",
       "      <td>-11.9730</td>\n",
       "      <td>0.15719</td>\n",
       "      <td>17.352</td>\n",
       "    </tr>\n",
       "    <tr>\n",
       "      <th>12</th>\n",
       "      <td>-11.4160</td>\n",
       "      <td>0.17679</td>\n",
       "      <td>16.819</td>\n",
       "    </tr>\n",
       "    <tr>\n",
       "      <th>13</th>\n",
       "      <td>-14.6590</td>\n",
       "      <td>0.13256</td>\n",
       "      <td>19.600</td>\n",
       "    </tr>\n",
       "    <tr>\n",
       "      <th>14</th>\n",
       "      <td>-14.5800</td>\n",
       "      <td>0.11713</td>\n",
       "      <td>17.706</td>\n",
       "    </tr>\n",
       "    <tr>\n",
       "      <th>15</th>\n",
       "      <td>-13.1820</td>\n",
       "      <td>0.13403</td>\n",
       "      <td>17.032</td>\n",
       "    </tr>\n",
       "    <tr>\n",
       "      <th>16</th>\n",
       "      <td>-11.9150</td>\n",
       "      <td>0.13651</td>\n",
       "      <td>18.490</td>\n",
       "    </tr>\n",
       "    <tr>\n",
       "      <th>17</th>\n",
       "      <td>-11.8150</td>\n",
       "      <td>0.11480</td>\n",
       "      <td>15.015</td>\n",
       "    </tr>\n",
       "    <tr>\n",
       "      <th>18</th>\n",
       "      <td>-10.6390</td>\n",
       "      <td>0.14409</td>\n",
       "      <td>18.369</td>\n",
       "    </tr>\n",
       "    <tr>\n",
       "      <th>19</th>\n",
       "      <td>-13.0110</td>\n",
       "      <td>0.26898</td>\n",
       "      <td>14.569</td>\n",
       "    </tr>\n",
       "    <tr>\n",
       "      <th>20</th>\n",
       "      <td>-11.4870</td>\n",
       "      <td>0.21476</td>\n",
       "      <td>15.378</td>\n",
       "    </tr>\n",
       "    <tr>\n",
       "      <th>21</th>\n",
       "      <td>-12.6240</td>\n",
       "      <td>0.20555</td>\n",
       "      <td>13.965</td>\n",
       "    </tr>\n",
       "    <tr>\n",
       "      <th>22</th>\n",
       "      <td>-12.6220</td>\n",
       "      <td>0.14293</td>\n",
       "      <td>15.892</td>\n",
       "    </tr>\n",
       "    <tr>\n",
       "      <th>23</th>\n",
       "      <td>-13.7030</td>\n",
       "      <td>0.22695</td>\n",
       "      <td>20.533</td>\n",
       "    </tr>\n",
       "    <tr>\n",
       "      <th>24</th>\n",
       "      <td>-11.8990</td>\n",
       "      <td>0.15458</td>\n",
       "      <td>15.582</td>\n",
       "    </tr>\n",
       "    <tr>\n",
       "      <th>25</th>\n",
       "      <td>-11.5730</td>\n",
       "      <td>0.21264</td>\n",
       "      <td>16.559</td>\n",
       "    </tr>\n",
       "    <tr>\n",
       "      <th>26</th>\n",
       "      <td>-12.2460</td>\n",
       "      <td>0.16962</td>\n",
       "      <td>16.371</td>\n",
       "    </tr>\n",
       "    <tr>\n",
       "      <th>27</th>\n",
       "      <td>-13.1960</td>\n",
       "      <td>0.14131</td>\n",
       "      <td>14.778</td>\n",
       "    </tr>\n",
       "    <tr>\n",
       "      <th>28</th>\n",
       "      <td>-10.3150</td>\n",
       "      <td>0.10273</td>\n",
       "      <td>19.651</td>\n",
       "    </tr>\n",
       "    <tr>\n",
       "      <th>29</th>\n",
       "      <td>-12.2500</td>\n",
       "      <td>0.13156</td>\n",
       "      <td>18.200</td>\n",
       "    </tr>\n",
       "    <tr>\n",
       "      <th>30</th>\n",
       "      <td>-12.3860</td>\n",
       "      <td>0.16138</td>\n",
       "      <td>15.561</td>\n",
       "    </tr>\n",
       "    <tr>\n",
       "      <th>31</th>\n",
       "      <td>-12.4260</td>\n",
       "      <td>0.20460</td>\n",
       "      <td>16.663</td>\n",
       "    </tr>\n",
       "    <tr>\n",
       "      <th>32</th>\n",
       "      <td>-10.1710</td>\n",
       "      <td>0.25866</td>\n",
       "      <td>16.030</td>\n",
       "    </tr>\n",
       "    <tr>\n",
       "      <th>33</th>\n",
       "      <td>-12.6540</td>\n",
       "      <td>0.19272</td>\n",
       "      <td>17.039</td>\n",
       "    </tr>\n",
       "    <tr>\n",
       "      <th>34</th>\n",
       "      <td>-10.8840</td>\n",
       "      <td>0.18241</td>\n",
       "      <td>15.829</td>\n",
       "    </tr>\n",
       "    <tr>\n",
       "      <th>35</th>\n",
       "      <td>-10.7770</td>\n",
       "      <td>0.20000</td>\n",
       "      <td>16.246</td>\n",
       "    </tr>\n",
       "    <tr>\n",
       "      <th>36</th>\n",
       "      <td>-10.8590</td>\n",
       "      <td>0.21331</td>\n",
       "      <td>16.514</td>\n",
       "    </tr>\n",
       "    <tr>\n",
       "      <th>37</th>\n",
       "      <td>-8.3704</td>\n",
       "      <td>0.27506</td>\n",
       "      <td>16.460</td>\n",
       "    </tr>\n",
       "    <tr>\n",
       "      <th>38</th>\n",
       "      <td>-12.0090</td>\n",
       "      <td>0.20172</td>\n",
       "      <td>17.097</td>\n",
       "    </tr>\n",
       "    <tr>\n",
       "      <th>39</th>\n",
       "      <td>-11.7880</td>\n",
       "      <td>0.21672</td>\n",
       "      <td>15.049</td>\n",
       "    </tr>\n",
       "    <tr>\n",
       "      <th>40</th>\n",
       "      <td>-11.9360</td>\n",
       "      <td>0.22167</td>\n",
       "      <td>15.094</td>\n",
       "    </tr>\n",
       "    <tr>\n",
       "      <th>41</th>\n",
       "      <td>-10.2210</td>\n",
       "      <td>0.20364</td>\n",
       "      <td>15.873</td>\n",
       "    </tr>\n",
       "    <tr>\n",
       "      <th>42</th>\n",
       "      <td>-10.6170</td>\n",
       "      <td>0.21123</td>\n",
       "      <td>15.742</td>\n",
       "    </tr>\n",
       "    <tr>\n",
       "      <th>43</th>\n",
       "      <td>-10.7650</td>\n",
       "      <td>0.19760</td>\n",
       "      <td>18.626</td>\n",
       "    </tr>\n",
       "    <tr>\n",
       "      <th>44</th>\n",
       "      <td>-10.2960</td>\n",
       "      <td>0.19101</td>\n",
       "      <td>15.298</td>\n",
       "    </tr>\n",
       "    <tr>\n",
       "      <th>45</th>\n",
       "      <td>-10.3720</td>\n",
       "      <td>0.30262</td>\n",
       "      <td>15.869</td>\n",
       "    </tr>\n",
       "    <tr>\n",
       "      <th>46</th>\n",
       "      <td>-9.2930</td>\n",
       "      <td>0.23780</td>\n",
       "      <td>16.801</td>\n",
       "    </tr>\n",
       "    <tr>\n",
       "      <th>47</th>\n",
       "      <td>-10.3920</td>\n",
       "      <td>0.33321</td>\n",
       "      <td>15.573</td>\n",
       "    </tr>\n",
       "    <tr>\n",
       "      <th>48</th>\n",
       "      <td>-10.3220</td>\n",
       "      <td>0.30025</td>\n",
       "      <td>16.576</td>\n",
       "    </tr>\n",
       "    <tr>\n",
       "      <th>49</th>\n",
       "      <td>-9.8188</td>\n",
       "      <td>0.24259</td>\n",
       "      <td>16.425</td>\n",
       "    </tr>\n",
       "    <tr>\n",
       "      <th>50</th>\n",
       "      <td>-9.9858</td>\n",
       "      <td>0.20182</td>\n",
       "      <td>14.382</td>\n",
       "    </tr>\n",
       "    <tr>\n",
       "      <th>51</th>\n",
       "      <td>-10.5200</td>\n",
       "      <td>0.23746</td>\n",
       "      <td>18.571</td>\n",
       "    </tr>\n",
       "    <tr>\n",
       "      <th>52</th>\n",
       "      <td>-9.7723</td>\n",
       "      <td>0.13755</td>\n",
       "      <td>17.405</td>\n",
       "    </tr>\n",
       "    <tr>\n",
       "      <th>53</th>\n",
       "      <td>-9.5018</td>\n",
       "      <td>0.14255</td>\n",
       "      <td>12.495</td>\n",
       "    </tr>\n",
       "    <tr>\n",
       "      <th>54</th>\n",
       "      <td>-9.9350</td>\n",
       "      <td>0.12133</td>\n",
       "      <td>14.319</td>\n",
       "    </tr>\n",
       "  </tbody>\n",
       "</table>\n",
       "</div>"
      ],
      "text/plain": [
       "    atmosphere_bottom_air__temperature  snowpack__depth  \\\n",
       "0                             -13.1980          0.29612   \n",
       "1                             -10.7460          0.40822   \n",
       "2                             -12.0420          0.27510   \n",
       "3                             -15.2060          0.21657   \n",
       "4                             -12.7290          0.24719   \n",
       "5                             -13.1050          0.31827   \n",
       "6                             -11.9630          0.21748   \n",
       "7                             -12.2300          0.30102   \n",
       "8                             -12.8220          0.19425   \n",
       "9                             -13.8100          0.13143   \n",
       "10                            -13.5130          0.18732   \n",
       "11                            -11.9730          0.15719   \n",
       "12                            -11.4160          0.17679   \n",
       "13                            -14.6590          0.13256   \n",
       "14                            -14.5800          0.11713   \n",
       "15                            -13.1820          0.13403   \n",
       "16                            -11.9150          0.13651   \n",
       "17                            -11.8150          0.11480   \n",
       "18                            -10.6390          0.14409   \n",
       "19                            -13.0110          0.26898   \n",
       "20                            -11.4870          0.21476   \n",
       "21                            -12.6240          0.20555   \n",
       "22                            -12.6220          0.14293   \n",
       "23                            -13.7030          0.22695   \n",
       "24                            -11.8990          0.15458   \n",
       "25                            -11.5730          0.21264   \n",
       "26                            -12.2460          0.16962   \n",
       "27                            -13.1960          0.14131   \n",
       "28                            -10.3150          0.10273   \n",
       "29                            -12.2500          0.13156   \n",
       "30                            -12.3860          0.16138   \n",
       "31                            -12.4260          0.20460   \n",
       "32                            -10.1710          0.25866   \n",
       "33                            -12.6540          0.19272   \n",
       "34                            -10.8840          0.18241   \n",
       "35                            -10.7770          0.20000   \n",
       "36                            -10.8590          0.21331   \n",
       "37                             -8.3704          0.27506   \n",
       "38                            -12.0090          0.20172   \n",
       "39                            -11.7880          0.21672   \n",
       "40                            -11.9360          0.22167   \n",
       "41                            -10.2210          0.20364   \n",
       "42                            -10.6170          0.21123   \n",
       "43                            -10.7650          0.19760   \n",
       "44                            -10.2960          0.19101   \n",
       "45                            -10.3720          0.30262   \n",
       "46                             -9.2930          0.23780   \n",
       "47                            -10.3920          0.33321   \n",
       "48                            -10.3220          0.30025   \n",
       "49                             -9.8188          0.24259   \n",
       "50                             -9.9858          0.20182   \n",
       "51                            -10.5200          0.23746   \n",
       "52                             -9.7723          0.13755   \n",
       "53                             -9.5018          0.14255   \n",
       "54                             -9.9350          0.12133   \n",
       "\n",
       "    atmosphere_bottom_air__temperature_amplitude  \n",
       "0                                         18.070  \n",
       "1                                         15.538  \n",
       "2                                         15.694  \n",
       "3                                         18.519  \n",
       "4                                         17.937  \n",
       "5                                         16.743  \n",
       "6                                         14.936  \n",
       "7                                         18.760  \n",
       "8                                         14.966  \n",
       "9                                         15.582  \n",
       "10                                        18.446  \n",
       "11                                        17.352  \n",
       "12                                        16.819  \n",
       "13                                        19.600  \n",
       "14                                        17.706  \n",
       "15                                        17.032  \n",
       "16                                        18.490  \n",
       "17                                        15.015  \n",
       "18                                        18.369  \n",
       "19                                        14.569  \n",
       "20                                        15.378  \n",
       "21                                        13.965  \n",
       "22                                        15.892  \n",
       "23                                        20.533  \n",
       "24                                        15.582  \n",
       "25                                        16.559  \n",
       "26                                        16.371  \n",
       "27                                        14.778  \n",
       "28                                        19.651  \n",
       "29                                        18.200  \n",
       "30                                        15.561  \n",
       "31                                        16.663  \n",
       "32                                        16.030  \n",
       "33                                        17.039  \n",
       "34                                        15.829  \n",
       "35                                        16.246  \n",
       "36                                        16.514  \n",
       "37                                        16.460  \n",
       "38                                        17.097  \n",
       "39                                        15.049  \n",
       "40                                        15.094  \n",
       "41                                        15.873  \n",
       "42                                        15.742  \n",
       "43                                        18.626  \n",
       "44                                        15.298  \n",
       "45                                        15.869  \n",
       "46                                        16.801  \n",
       "47                                        15.573  \n",
       "48                                        16.576  \n",
       "49                                        16.425  \n",
       "50                                        14.382  \n",
       "51                                        18.571  \n",
       "52                                        17.405  \n",
       "53                                        12.495  \n",
       "54                                        14.319  "
      ]
     },
     "execution_count": 12,
     "metadata": {},
     "output_type": "execute_result"
    }
   ],
   "source": [
    "import pandas\n",
    "data = pandas.read_csv(\"https://raw.githubusercontent.com/mcflugen/pymt_ku/master/data/Barrow_1961-2015.csv\")\n",
    "\n",
    "maat = data[\"atmosphere_bottom_air__temperature\"]\n",
    "tamp = data[\"atmosphere_bottom_air__temperature_amplitude\"]\n",
    "snow_depth = data[\"snowpack__depth\"]\n",
    "\n",
    "data"
   ]
  },
  {
   "cell_type": "code",
   "execution_count": 13,
   "metadata": {
    "collapsed": false,
    "deletable": true,
    "editable": true
   },
   "outputs": [
    {
     "name": "stdout",
     "output_type": "stream",
     "text": [
      "#===============================================================================\r\n",
      "# PermaModel Config File for: Ku_method\r\n",
      "#===============================================================================\r\n",
      "# Input\r\n",
      "comp_status      | Enabled              | string   | component status {Enabled; Disabled}\r\n",
      "in_directory     | .                    | string   | input directory\r\n",
      "out_directory    | .                    | string   | output directory\r\n",
      "permafrost_dir   | .                    | string   | root permafrost code directory\r\n",
      "site_prefix      | Test                 | string   | file prefix for the study site\r\n",
      "case_prefix      | Case_test            | string   | file prefix for the model scenario\r\n",
      "lat              | 71.31                | float    | 64.8378N, 147.7164W\r\n",
      "lon              | -156.66              | float    | GIS coordinates\r\n",
      "start_year       | 1961                 | long     | begining of the simulation time [year]\r\n",
      "end_year         | 2015                 | long     | begining of the simulation time [year]\r\n",
      "dt               | 1.0                  | float    | timestep for permafrost process [year]\r\n",
      "T_air_type       | Scalar               | string   | allowed input types {Scalar; Time_Series}\r\n",
      "T_air            | -11                  | float    | Mean annual air temperature [C]\r\n",
      "T_air_file       | off                  | string   | Mean annual air temperature [C]\r\n",
      "A_air_type       | Scalar               | string   | allowed input types {Scalar; Time_Series}\r\n",
      "A_air            | 16                   | float    | Mean annual amplitude of air temperature [C]\r\n",
      "A_air_file       | off                  | string   | Mean annual amplitude of air temperature [C]\r\n",
      "h_snow_type      | Scalar               | string   | allowed input types {Scalar; Time_Series}\r\n",
      "h_snow           | 0.3                  | float    | depth of snow [m]\r\n",
      "h_snow_file      | off                  | string   | depth of snow [m]\r\n",
      "rho_snow_type    | Scalar               | string   | allowed input types {Scalar; Time_Series}\r\n",
      "rho_snow         | 240.0                | float    | density of snow [kg m-3]\r\n",
      "rho_snow_file    | off                  | string   | density of snow [kg m-3]\r\n",
      "vwc_H2O_type     | Scalar               | string   | allowed input types {Scalar; Time_Series}\r\n",
      "vwc_H2O          | 0.4                  | float    | soil volumetric water content [m3 m-3]\r\n",
      "vwc_H2O_file     | off                  | string   | soil volumetric water content [m3 m-3]\r\n",
      "Hvgf_type        | Scalar               | string   | allowed input types {Scalar; Time_Series}\r\n",
      "Hvgf             | 0.0                  | float    | Height of vegetation in frozen period [m]\r\n",
      "Hvgf_file        | off                  | string   | Height of vegetation in frozen period [m]\r\n",
      "Hvgt_type        | Scalar               | string   | allowed input types {Scalar; Time_Series}\r\n",
      "Hvgt             | 0.0                  | float    | Height of vegetation in thawed period [m]\r\n",
      "Hvgt_file        | off                  | string   | Height of vegetation in thawed period [m]\r\n",
      "Dvf_type         | Scalar               | string   | allowed input types {Scalar; Time_Series}\r\n",
      "Dvf              | 1.39e-06             | float    | Thermal diffusivity of vegetation in frozen period [m2 s]\r\n",
      "Dvf_file         | off                  | string   | Thermal diffusivity of vegetation in frozen period [m2 s]\r\n",
      "Dvt_type         | Scalar               | string   | allowed input types {Scalar; Time_Series}\r\n",
      "Dvt              | 5.56e-08             | float    | Thermal diffusivity of vegetation in thawed period[m2 s]\r\n",
      "Dvt_file         | off                  | string   | Thermal diffusivity of vegetation in thawed period[m2 s]\r\n",
      "#===============================================================================\r\n",
      "# Output\r\n",
      "SAVE_ALT_GRIDS   | No                   | string           | option to save grids of active layer thickness {Yes; No}\r\n",
      "ALT_file         | off                  | string   | filename for grid stack of active layer thicknesses\r\n",
      "SAVE_TPS_GRIDS   | No                   | string           | option to save grids of temperature at permafrost surface {Yes; No}\r\n",
      "TPS_file         | off                  | string    | filename for grid stack of temperatures at permafrost surface"
     ]
    }
   ],
   "source": [
    "config_file, run_folder = ku.setup(lat  = 71.31,\n",
    "                                   lon  = -156.66,\n",
    "                                   start_year = 1961,\n",
    "                                   end_year = 2015)\n",
    "\n",
    "file = run_folder + '/' + config_file\n",
    "\n",
    "%cat $file"
   ]
  },
  {
   "cell_type": "code",
   "execution_count": 14,
   "metadata": {
    "collapsed": false,
    "deletable": true,
    "editable": true
   },
   "outputs": [
    {
     "name": "stdout",
     "output_type": "stream",
     "text": [
      " \n",
      "Ku model component: Initializing...\n"
     ]
    }
   ],
   "source": [
    "ku.initialize(config_file, run_folder)"
   ]
  },
  {
   "cell_type": "code",
   "execution_count": 15,
   "metadata": {
    "collapsed": false,
    "deletable": true,
    "editable": true
   },
   "outputs": [
    {
     "data": {
      "text/plain": [
       "[<matplotlib.lines.Line2D at 0xd0a7446a0>]"
      ]
     },
     "execution_count": 15,
     "metadata": {},
     "output_type": "execute_result"
    },
    {
     "data": {
      "image/png": "[encoded data removed]",
      "text/plain": [
       "<Figure size 432x288 with 1 Axes>"
      ]
     },
     "metadata": {},
     "output_type": "display_data"
    }
   ],
   "source": [
    "h = plt.figure()\n",
    "thickness_ts = np.zeros(55)\n",
    "for i in range(55):\n",
    "    ku.set_value(\"atmosphere_bottom_air__temperature\", maat.values[i])\n",
    "    ku.set_value(\"atmosphere_bottom_air__temperature_amplitude\", tamp.values[i])\n",
    "    ku.set_value(\"snowpack__depth\", snow_depth.values[i])\n",
    "    t0 = ku.time\n",
    "    ku.update()\n",
    "    thickness = ku.get_value('soil__active_layer_thickness')\n",
    "    thickness_ts[i] = thickness\n",
    "    plt.scatter(t0, thickness,c='k')\n",
    "    \n",
    "plt.plot(thickness_ts)"
   ]
  },
  {
   "cell_type": "code",
   "execution_count": 16,
   "metadata": {
    "collapsed": false,
    "deletable": true,
    "editable": true
   },
   "outputs": [
    {
     "data": {
      "text/plain": [
       "{'water-liquid__volumetric-water-content-soil': <DataValues>\n",
       " float64 water-liquid__volumetric-water-content-soil(node)\n",
       " Attributes:\n",
       "     units: m3 m-3\n",
       "     grid: 8\n",
       "     intent: in\n",
       "     location: node, 'latitude': <DataValues>\n",
       " float64 latitude(node)\n",
       " Attributes:\n",
       "     units: degree_north\n",
       "     grid: 0\n",
       "     intent: in\n",
       "     location: node, 'vegetation__Dvt': <DataValues>\n",
       " float64 vegetation__Dvt(node)\n",
       " Attributes:\n",
       "     units: m2 s-1\n",
       "     grid: 12\n",
       "     intent: in\n",
       "     location: node, 'vegetation__Hvgt': <DataValues>\n",
       " float64 vegetation__Hvgt(node)\n",
       " Attributes:\n",
       "     units: m\n",
       "     grid: 10\n",
       "     intent: in\n",
       "     location: node, 'datetime__start': <DataValues>\n",
       " int32 datetime__start(node)\n",
       " Attributes:\n",
       "     units: year\n",
       "     grid: 2\n",
       "     intent: in\n",
       "     location: node, 'snowpack__density': <DataValues>\n",
       " float64 snowpack__density(node)\n",
       " Attributes:\n",
       "     units: kg m-3\n",
       "     grid: 7\n",
       "     intent: in\n",
       "     location: node, 'longitude': <DataValues>\n",
       " float64 longitude(node)\n",
       " Attributes:\n",
       "     units: degree_east\n",
       "     grid: 1\n",
       "     intent: in\n",
       "     location: node, 'snowpack__depth': <DataValues>\n",
       " float64 snowpack__depth(node)\n",
       " Attributes:\n",
       "     units: m\n",
       "     grid: 6\n",
       "     intent: in\n",
       "     location: node, 'vegetation__Dvf': <DataValues>\n",
       " float64 vegetation__Dvf(node)\n",
       " Attributes:\n",
       "     units: m2 s-1\n",
       "     grid: 11\n",
       "     intent: in\n",
       "     location: node, 'datetime__end': <DataValues>\n",
       " int32 datetime__end(node)\n",
       " Attributes:\n",
       "     units: year\n",
       "     grid: 3\n",
       "     intent: in\n",
       "     location: node, 'soil__temperature': <DataValues>\n",
       " float64 soil__temperature(node)\n",
       " Attributes:\n",
       "     units: deg_C\n",
       "     grid: 13\n",
       "     intent: out\n",
       "     location: node, 'vegetation__Hvgf': <DataValues>\n",
       " float64 vegetation__Hvgf(node)\n",
       " Attributes:\n",
       "     units: m\n",
       "     grid: 9\n",
       "     intent: in\n",
       "     location: node, 'atmosphere_bottom_air__temperature': <DataValues>\n",
       " float64 atmosphere_bottom_air__temperature(node)\n",
       " Attributes:\n",
       "     units: deg_C\n",
       "     grid: 4\n",
       "     intent: in\n",
       "     location: node, 'soil__active_layer_thickness': <DataValues>\n",
       " float64 soil__active_layer_thickness(node)\n",
       " Attributes:\n",
       "     units: m\n",
       "     grid: 14\n",
       "     intent: out\n",
       "     location: node, 'atmosphere_bottom_air__temperature_amplitude': <DataValues>\n",
       " float64 atmosphere_bottom_air__temperature_amplitude(node)\n",
       " Attributes:\n",
       "     units: deg_C\n",
       "     grid: 5\n",
       "     intent: in\n",
       "     location: node}"
      ]
     },
     "execution_count": 16,
     "metadata": {},
     "output_type": "execute_result"
    }
   ],
   "source": [
    "ku.var"
   ]
  },
  {
   "cell_type": "code",
   "execution_count": 17,
   "metadata": {
    "collapsed": false,
    "deletable": true,
    "editable": true
   },
   "outputs": [
    {
     "data": {
      "text/plain": [
       "dict_items([('site_prefix', 'Test'), ('case_prefix', 'Case_test'), ('lat', 71.31), ('lon', -156.66), ('start_year', 1961), ('end_year', 2015), ('dt', 1.0), ('T_air', -11), ('T_air_file', 'off'), ('A_air', 16), ('A_air_file', 'off'), ('h_snow', 0.3), ('h_snow_file', 'off'), ('rho_snow', 240.0), ('rho_snow_file', 'off'), ('vwc_H2O', 0.4), ('vwc_H2O_file', 'off'), ('Hvgf', 0.0), ('Hvgf_file', 'off'), ('Hvgt', 0.0), ('Hvgt_file', 'off'), ('Dvf', 1.39e-06), ('Dvf_file', 'off'), ('Dvt', 5.56e-08), ('Dvt_file', 'off'), ('ALT_file', 'off'), ('TPS_file', 'off')])"
      ]
     },
     "execution_count": 17,
     "metadata": {},
     "output_type": "execute_result"
    }
   ],
   "source": [
    "ku.parameters"
   ]
  },
  {
   "cell_type": "code",
   "execution_count": null,
   "metadata": {
    "collapsed": true,
    "deletable": true,
    "editable": true
   },
   "outputs": [],
   "source": []
  }
 ],
 "metadata": {
  "kernelspec": {
   "display_name": "Python 3",
   "language": "python",
   "name": "python3"
  },
  "language_info": {
   "codemirror_mode": {
    "name": "ipython",
    "version": 3
   },
   "file_extension": ".py",
   "mimetype": "text/x-python",
   "name": "python",
   "nbconvert_exporter": "python",
   "pygments_lexer": "ipython3",
   "version": "3.5.2"
  }
 },
 "nbformat": 4,
 "nbformat_minor": 2
}
