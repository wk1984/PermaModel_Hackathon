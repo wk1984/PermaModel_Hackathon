{
 "cells": [
  {
   "cell_type": "markdown",
   "metadata": {},
   "source": [
    "### THIS IS A SIMPLE COUPLING FRAMEWORK OF KU and ECSimpleSnow MODELS\n",
    "\n",
    "### - Ku model is originally developed in Python, ANNUAL TIME STEP\n",
    "### - ECSimpleSnow is developed in Fortran, DAILY TIME STEP\n",
    "\n",
    "### This notebook will be aimed at setting up a scenario model for a river floodplain\n",
    "### The river floodplain has a main channel \n",
    "\n",
    "#### *** ECSimpleSnow model \n",
    "#### - uses daily air temperature and precipitation as main inputs; \n",
    "#### - provides mean annual air temperature, annual amplitude of air temperature, winter-averged snow depth and density for ku model "
   ]
  },
  {
   "cell_type": "code",
   "execution_count": 1,
   "metadata": {},
   "outputs": [
    {
     "name": "stderr",
     "output_type": "stream",
     "text": [
      "\u001b[33;01m➡ models: FrostNumber, Ku, Hydrotrend, ECSimpleSnow, Cem, Waves\u001b[39;49;00m\n"
     ]
    }
   ],
   "source": [
    "import numpy as np\n",
    "import matplotlib.pyplot as plt\n",
    "from scipy.optimize import curve_fit\n",
    "\n",
    "# Load PyMT model(s)\n",
    "import pymt.models\n",
    "# ku = models.\n",
    "ku = pymt.models.Ku()\n",
    "ec = pymt.models.ECSimpleSnow()"
   ]
  },
  {
   "cell_type": "markdown",
   "metadata": {},
   "source": [
    "### This function is used to estimate the annual temperature curve:"
   ]
  },
  {
   "cell_type": "code",
   "execution_count": 2,
   "metadata": {},
   "outputs": [],
   "source": [
    "def func(x, a, b, c):\n",
    "    \n",
    "    # a: annual amplitude\n",
    "    # c: mean annual temperature\n",
    "    \n",
    "    return a * np.sin(x/365*2*np.pi+b) + c"
   ]
  },
  {
   "cell_type": "markdown",
   "metadata": {},
   "source": [
    "### Initialize ECSimpleSnow component"
   ]
  },
  {
   "cell_type": "code",
   "execution_count": 3,
   "metadata": {},
   "outputs": [
    {
     "name": "stdout",
     "output_type": "stream",
     "text": [
      "('snowpack__depth', 'snowpack__mass-per-volume_density')\n",
      "('precipitation_mass_flux', 'land_surface_air__temperature', 'precipitation_mass_flux_adjust_factor', 'snow_class', 'open_area_or_not', 'snowpack__initial_depth', 'snowpack__initial_mass-per-volume_density')\n"
     ]
    }
   ],
   "source": [
    "# Initialize the model with the defaults.\n",
    "ec.initialize('snow_model.cfg')\n",
    "\n",
    "# List input and output variable names.\n",
    "print(ec.get_output_var_names())\n",
    "print(ec.get_input_var_names())\n",
    "ec.finalize()"
   ]
  },
  {
   "cell_type": "markdown",
   "metadata": {},
   "source": [
    "### initialize KU component"
   ]
  },
  {
   "cell_type": "code",
   "execution_count": null,
   "metadata": {},
   "outputs": [
    {
     "name": "stdout",
     "output_type": "stream",
     "text": [
      " \n",
      "Ku model component: Initializing...\n",
      "Permamodel Ku Component\n",
      "('latitude', 'longitude', 'datetime__start', 'datetime__end', 'atmosphere_bottom_air__temperature', 'atmosphere_bottom_air__temperature_amplitude', 'snowpack__depth', 'snowpack__density', 'water-liquid__volumetric-water-content-soil', 'vegetation__Hvgf', 'vegetation__Hvgt', 'vegetation__Dvf', 'vegetation__Dvt')\n",
      "[ 0.]\n",
      "NO OUTPUT of ALT\n",
      "NO OUTPUT of TPS\n",
      "***\n",
      "Writing output finished!\n",
      "Please look at./off.nc and ./off.nc\n"
     ]
    }
   ],
   "source": [
    "# We create a large time step here, it could be able to update ku model for many times with once initialization.\n",
    "# It will use the same soil properties.\n",
    "\n",
    "config_file, run_folder = ku.setup(lat  = 71.31,\n",
    "                                   lon  = -156.66,\n",
    "                                   T_air = -10.0,\n",
    "                                   A_air = 16,\n",
    "                                   end_year = 3000)\n",
    "\n",
    "ku.initialize(config_file, run_folder)\n",
    "print(ku.get_component_name())\n",
    "print(ku.get_input_var_names())\n",
    "\n",
    "print(ku.get_value('vegetation__Hvgf'))\n",
    "ku.finalize()"
   ]
  },
  {
   "cell_type": "markdown",
   "metadata": {},
   "source": [
    "## Define variables to save results for plotting ..."
   ]
  },
  {
   "cell_type": "code",
   "execution_count": null,
   "metadata": {},
   "outputs": [
    {
     "name": "stdout",
     "output_type": "stream",
     "text": [
      "[ 0.  0.  0.  0.  0.  0.  0.  0.  0.  0.  0.  0.]\n"
     ]
    }
   ],
   "source": [
    "site_id    = np.arange(12)\n",
    "site_snod  = np.zeros(12) # winter-averaged snow depth\n",
    "site_vht   = np.zeros(12) # thaw season veg height\n",
    "site_vhf   = np.zeros(12) # freeze season veg height\n",
    "site_ALT   = np.zeros(12) # active layer thickness\n",
    "site_TPS   = np.zeros(12) # mean annual temperature at permafrost surface\n",
    "site_fst   = np.zeros(12) # forested=1\n",
    "\n",
    "print(site_snod)"
   ]
  },
  {
   "cell_type": "markdown",
   "metadata": {},
   "source": [
    "### Run"
   ]
  },
  {
   "cell_type": "code",
   "execution_count": null,
   "metadata": {},
   "outputs": [
    {
     "name": "stdout",
     "output_type": "stream",
     "text": [
      " \n",
      "Ku model component: Initializing...\n"
     ]
    }
   ],
   "source": [
    "ku.initialize(config_file, run_folder)\n",
    "    \n",
    "for i in np.arange(12):\n",
    "    \n",
    "    # This is an unknow issue: we have to reset the module objective here. \n",
    "    # It will be double checked.\n",
    "    \n",
    "    # ec = pymt.models.ECSimpleSnow()   \n",
    "    ec.initialize('snow_model.cfg')\n",
    "            \n",
    "    # DEFINE some variables for annual summary\n",
    "\n",
    "    snod     = 0\n",
    "    sden     = 0\n",
    "    snow_day = 0\n",
    "    \n",
    "    t365 = np.arange(365)\n",
    "    air_temperature = np.zeros(365) # this is used for estimating annual cycle in following\n",
    "    \n",
    "    print('setting column - ',np.str(i))\n",
    "    \n",
    "#     # set different vegetation height, snow class, forested area for each site:\n",
    "\n",
    "    if i == 1 or i == 0:      \n",
    "        \n",
    "        ku.set_value('vegetation__Hvgt', 2.0)\n",
    "        ku.set_value('vegetation__Hvgf', 2.0)\n",
    "        ku.set_value('vegetation__Dvt' , 1.0E-8)\n",
    "        \n",
    "        site_vht[i] = 2.0\n",
    "        site_vhf[i] = 2.0\n",
    "                \n",
    "        #ec.set_value('snow_class', 2) # snow class 2 is typical for taiga areas \n",
    "        ec.set_value('open_area_or_not', 0) # 0 means we have a taiga forest\n",
    "        \n",
    "        site_fst[i] = 1 - 0        \n",
    "        \n",
    "#     if i == 2 or i == 3 or i ==7:\n",
    "    \n",
    "#         ku.set_value('vegetation__Hvgt', 1.0)\n",
    "#         ku.set_value('vegetation__Dvt' , 1.0E-8)\n",
    "        \n",
    "#         site_vht[i] = 1.0\n",
    "        \n",
    "#         ec.set_value('snow_class'      , 1) # snow class 2 is typical for taiga areas \n",
    "#         ec.set_value('open_area_or_not', 1) # 0 means we have a taiga forest\n",
    "        \n",
    "#         site_fst[i] = 1 - 1\n",
    "        \n",
    "#     if i == 4 or i == 5 or i==6:\n",
    "    \n",
    "#         ku.set_value('vegetation__Hvgt', 0.0)\n",
    "#         ku.set_value('vegetation__Dvt' , 1.0E-8)\n",
    "        \n",
    "#         site_vht[i] = 0.0\n",
    "        \n",
    "#         ec.set_value('snow_class'      , 1) # snow class 2 is typical for taiga areas \n",
    "#         ec.set_value('open_area_or_not', 1) # 0 means we have a taiga forest\n",
    "        \n",
    "#         site_fst[i] = 1 - 1\n",
    "            \n",
    "#     if i == 8 or i==9:\n",
    "#         ku.set_value('vegetation__Hvgt', 0.1)\n",
    "#         ku.set_value('vegetation__Dvt' , 1.0E-8)\n",
    "        \n",
    "#         site_vht[i] = 0.1\n",
    "        \n",
    "#         ec.set_value('snow_class', 1) # snow class 2 is typical for taiga areas \n",
    "#         ec.set_value('open_area_or_not', 1) # 0 means we have a taiga forest\n",
    "        \n",
    "#         site_fst[i] = 1 - 1\n",
    "                \n",
    "    # loop for 365 days to drive snow simulation:\n",
    "            \n",
    "    for iii in np.arange(365):\n",
    "        \n",
    "        # please note that: set_value for BMI-Fortran is sensitive to variable type.\n",
    "        # It's easy to get error.\n",
    "                \n",
    "        #  ec.set_value('land_surface_air__temperature', np.float32(air_temperature[iii]))\n",
    "        #  ec.set_value('precipitation_mass_flux'      , np.float32(precipitation[iii]))\n",
    "        \n",
    "        ec.update()\n",
    "        \n",
    "        tair  = ec.get_value('land_surface_air__temperature')\n",
    "        snd   = ec.get_value('snowpack__depth', units='m')\n",
    "        rsn   = ec.get_value('snowpack__mass-per-volume_density')\n",
    "\n",
    "        units = ec.get_var_units('snowpack__depth')\n",
    "\n",
    "        snod = snod + snd\n",
    "        sden = sden + rsn\n",
    "        \n",
    "        air_temperature[iii] = tair\n",
    "\n",
    "        if tair <= 0:\n",
    "            snow_day = snow_day + 1\n",
    "\n",
    "    # Calculate winter-averaged snow depth and density:\n",
    "\n",
    "    SDEN = sden / snow_day \n",
    "    SNOD = snod / snow_day\n",
    "\n",
    "    # Finalize the snow process:\n",
    "    ec.finalize()    \n",
    "        \n",
    "    # Estimate mean and amplitude from daily air temperature:\n",
    "    \n",
    "    popt, pcov = curve_fit(func, \n",
    "                           t365, \n",
    "                           air_temperature, \n",
    "                           bounds=([0.0,-99.0,-99.0], [50., 99.0, 99.0]))\n",
    "\n",
    "    MAAT = popt[2]\n",
    "    MAAA = popt[0]\n",
    "    \n",
    "    # Set values for Ku component:\n",
    "    \n",
    "    ku.set_value('atmosphere_bottom_air__temperature'          , MAAT)\n",
    "    ku.set_value('atmosphere_bottom_air__temperature_amplitude', MAAA)\n",
    "    ku.set_value('snowpack__depth'                             , SNOD)\n",
    "    ku.set_value('snowpack__density'                           , SDEN)\n",
    "    ku.set_value('water-liquid__volumetric-water-content-soil' , 0.45)\n",
    "    \n",
    "    # Force Ku model for once: [i.e., by 1 column]\n",
    "           \n",
    "    ku.update()\n",
    "    \n",
    "    alt = ku.get_value('soil__active_layer_thickness')\n",
    "    tps = ku.get_value('soil__temperature')    \n",
    "    \n",
    "    site_snod[i] = SNOD\n",
    "    site_ALT[i]  = alt\n",
    "    site_TPS[i]  = tps\n",
    "    \n",
    "ku.finalize()"
   ]
  },
  {
   "cell_type": "markdown",
   "metadata": {},
   "source": [
    "### Quick Show Results:"
   ]
  },
  {
   "cell_type": "code",
   "execution_count": null,
   "metadata": {},
   "outputs": [],
   "source": [
    "plt.plot(site_snod, 'o-')\n",
    "plt.ylabel('Snow Depth (m)')"
   ]
  },
  {
   "cell_type": "code",
   "execution_count": null,
   "metadata": {},
   "outputs": [],
   "source": [
    "plt.plot(site_fst, 'o-')\n",
    "plt.ylabel('Forested=1')"
   ]
  },
  {
   "cell_type": "code",
   "execution_count": null,
   "metadata": {},
   "outputs": [],
   "source": [
    "plt.plot(site_vht, 'o-')\n",
    "plt.ylabel('Veg. H. Thaw (m)')"
   ]
  },
  {
   "cell_type": "code",
   "execution_count": null,
   "metadata": {},
   "outputs": [],
   "source": [
    "plt.plot(site_ALT, 'o-')\n",
    "plt.ylim([0.4, 0])\n",
    "plt.ylabel('ALT (m)')"
   ]
  },
  {
   "cell_type": "code",
   "execution_count": null,
   "metadata": {},
   "outputs": [],
   "source": [
    "plt.plot(site_TPS, 'o-')\n",
    "plt.ylabel('Mean Annual Temperature at PF Surface')"
   ]
  },
  {
   "cell_type": "code",
   "execution_count": null,
   "metadata": {},
   "outputs": [],
   "source": [
    "a = [0,]\n",
    "type(a)"
   ]
  },
  {
   "cell_type": "code",
   "execution_count": null,
   "metadata": {},
   "outputs": [],
   "source": []
  }
 ],
 "metadata": {
  "kernelspec": {
   "display_name": "Python 3",
   "language": "python",
   "name": "python3"
  },
  "language_info": {
   "codemirror_mode": {
    "name": "ipython",
    "version": 3
   },
   "file_extension": ".py",
   "mimetype": "text/x-python",
   "name": "python",
   "nbconvert_exporter": "python",
   "pygments_lexer": "ipython3",
   "version": "3.6.8"
  }
 },
 "nbformat": 4,
 "nbformat_minor": 2
}
